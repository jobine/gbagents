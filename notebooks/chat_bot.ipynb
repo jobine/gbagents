{
 "cells": [
  {
   "cell_type": "code",
   "execution_count": 12,
   "id": "30189a81",
   "metadata": {},
   "outputs": [],
   "source": [
    "%%capture --no-stderr\n",
    "%pip install -U langgraph langsmith langchain_tavily\n",
    "%pip install -U tavily-python"
   ]
  },
  {
   "cell_type": "code",
   "execution_count": 1,
   "id": "910152bc",
   "metadata": {},
   "outputs": [],
   "source": [
    "import os\n",
    "\n",
    "# Set environment variables for tracing via LangSmith\n",
    "os.environ['LANGGRAPH_TRACING_V2'] = 'true'\n",
    "os.environ['LANGGRAPH_PROJECT'] = 'gb-chat-bot-lg'\n",
    "os.environ['LANGSMITH_TRACING'] = 'true'\n",
    "os.environ['LANGSMITH_PROJECT'] = 'gb-chat-bot-ls'"
   ]
  },
  {
   "cell_type": "code",
   "execution_count": 2,
   "id": "5e5590a0",
   "metadata": {},
   "outputs": [
    {
     "name": "stdout",
     "output_type": "stream",
     "text": [
      "OPENAI_API_KEY 已设置\n",
      "✓ OPENAI API 密钥格式看起来正确\n",
      "TAVILY_API_KEY 已设置\n",
      "✓ Tavily API 密钥格式看起来正确\n"
     ]
    }
   ],
   "source": [
    "# 检查并设置 OpenAI API 密钥\n",
    "import getpass\n",
    "\n",
    "# 检查是否已经设置了 OPENAI_API_KEY\n",
    "if 'OPENAI_API_KEY' not in os.environ or not os.environ.get('OPENAI_API_KEY'):\n",
    "    print(\"未检测到 OPENAI_API_KEY 环境变量\")\n",
    "    print(\"请设置您的 OpenAI API 密钥:\")\n",
    "    \n",
    "    # 安全地输入 API 密钥\n",
    "    api_key = getpass.getpass(\"请输入您的 OpenAI API 密钥: \")\n",
    "    os.environ['OPENAI_API_KEY'] = api_key\n",
    "    print(\"OPENAI API 密钥已设置！\")\n",
    "else:\n",
    "    print(\"OPENAI_API_KEY 已设置\")\n",
    "\n",
    "# 验证 API 密钥格式\n",
    "api_key = os.environ.get('OPENAI_API_KEY', '')\n",
    "if api_key and not api_key.startswith('sk-'):\n",
    "    print(\"⚠️  警告: OPENAI API 密钥格式可能不正确，应该以 'sk-' 开头\")\n",
    "elif api_key:\n",
    "    print(\"✓ OPENAI API 密钥格式看起来正确\")\n",
    "\n",
    "# 检查并设置 Tavily API 密钥\n",
    "if 'TAVILY_API_KEY' not in os.environ or not os.environ.get('TAVILY_API_KEY'):\n",
    "    print(\"未检测到 TAVILY_API_KEY 环境变量\")\n",
    "    print(\"请设置您的 Tavily API 密钥:\")\n",
    "    print(\"您可以在 https://app.tavily.com 获取免费的 API 密钥\")\n",
    "    \n",
    "    # 安全地输入 API 密钥\n",
    "    tavily_key = getpass.getpass(\"请输入您的 Tavily API 密钥: \")\n",
    "    os.environ['TAVILY_API_KEY'] = tavily_key\n",
    "    print(\"Tavily API 密钥已设置！\")\n",
    "else:\n",
    "    print(\"TAVILY_API_KEY 已设置\")\n",
    "\n",
    "# 验证 Tavily API 密钥格式\n",
    "tavily_key = os.environ.get('TAVILY_API_KEY', '')\n",
    "if tavily_key and not tavily_key.startswith('tvly-'):\n",
    "    print(\"⚠️  警告: Tavily API 密钥格式可能不正确，通常以 'tvly-' 开头\")\n",
    "elif tavily_key:\n",
    "    print(\"✓ Tavily API 密钥格式看起来正确\")"
   ]
  },
  {
   "cell_type": "code",
   "execution_count": 3,
   "id": "322012bc",
   "metadata": {},
   "outputs": [],
   "source": [
    "from typing import Annotated\n",
    "from typing_extensions import TypedDict\n",
    "from langgraph.graph import StateGraph, START, END\n",
    "from langgraph.graph.message import add_messages\n",
    "\n",
    "class State(TypedDict):\n",
    "    messages: Annotated[list, add_messages]\n",
    "\n",
    "# graph_builder = StateGraph(State)"
   ]
  },
  {
   "cell_type": "code",
   "execution_count": 4,
   "id": "f91c84d1",
   "metadata": {},
   "outputs": [
    {
     "data": {
      "text/plain": [
       "<langgraph.graph.state.StateGraph at 0x1cdefda3820>"
      ]
     },
     "execution_count": 4,
     "metadata": {},
     "output_type": "execute_result"
    }
   ],
   "source": [
    "from langchain_openai import ChatOpenAI\n",
    "from langchain_tavily import TavilySearch\n",
    "\n",
    "tavily_tool = TavilySearch(\n",
    "    max_results=2,  # 最多返回2个结果\n",
    "    search_depth=\"basic\",  # 搜索深度: \"basic\" 或 \"advanced\"\n",
    "    include_answer=True,  # 包含AI生成的答案\n",
    "    include_raw_content=False,  # 不包含原始HTML内容\n",
    "    include_images=False  # 不包含图片链接\n",
    ")\n",
    "\n",
    "tools = [tavily_tool]\n",
    "\n",
    "# Initialize the chat model with timeout settings\n",
    "# Using a smaller model for faster responses, can be replaced with larger models like \"gpt-4\" or \"gpt-4o-mini\"\n",
    "chat_model = ChatOpenAI(\n",
    "    model=\"gpt-4o-mini\",\n",
    "    timeout=30,  # 设置30秒超时\n",
    "    max_retries=2,  # 最多重试2次\n",
    ")\n",
    "\n",
    "chat_model_with_tools = chat_model.bind_tools(tools)\n",
    "\n",
    "# Define the chat bot function\n",
    "def chat_bot(state: State) -> State:\n",
    "    \"\"\"\n",
    "    Chat bot function that processes the state and returns a response.\n",
    "    \"\"\"\n",
    "    messages = state['messages']\n",
    "    \n",
    "    return {'messages': [chat_model_with_tools.invoke(messages)]}\n",
    "\n",
    "# 重新创建图构建器（避免重复添加节点的错误）\n",
    "graph_builder = StateGraph(State)\n",
    "graph_builder.add_node('chat_bot', chat_bot)\n",
    "\n",
    "# graph_builder.add_edge(START, 'chat_bot')\n",
    "# graph_builder.add_edge('chat_bot', END)"
   ]
  },
  {
   "cell_type": "code",
   "execution_count": null,
   "id": "356b8200",
   "metadata": {},
   "outputs": [
    {
     "data": {
      "text/plain": [
       "<langgraph.graph.state.StateGraph at 0x1cdefda3820>"
      ]
     },
     "execution_count": 5,
     "metadata": {},
     "output_type": "execute_result"
    }
   ],
   "source": [
    "# Tools Call\n",
    "\n",
    "import json\n",
    "from langchain_core.messages import ToolMessage\n",
    "from typing import Literal\n",
    "\n",
    "# Define a basic tool node to handle tool calls\n",
    "class BasicToolNode:\n",
    "    def __init__(self, tools: list) -> None:\n",
    "        self.tools = {tool.name: tool for tool in tools}\n",
    "\n",
    "    def __call__(self, state: State) -> State:\n",
    "        \"\"\"\n",
    "        Process the state and return the result of the tool call.\n",
    "        \"\"\"\n",
    "\n",
    "        if messages := state.get('messages', []):\n",
    "            message = messages[-1]\n",
    "        else:\n",
    "            raise ValueError('We can not find any messages. Please check the state.')\n",
    "        \n",
    "        outputs = []\n",
    "\n",
    "        for tool_call in message.tool_calls:\n",
    "            tool_result = self.tools.get(tool_call['name']).invoke(tool_call['args'])\n",
    "            \n",
    "            outputs.append(\n",
    "                ToolMessage(\n",
    "                    name=tool_call['name'],\n",
    "                    content=json.dumps(tool_result, ensure_ascii=False),\n",
    "                    tool_call_id=tool_call['id']\n",
    "                )\n",
    "            )\n",
    "        \n",
    "        return {'messages': outputs}\n",
    "    \n",
    "# Define a conditional edge\n",
    "def route_tools(state: State) -> Literal['tools', '__end__']:\n",
    "    \"\"\"\n",
    "    Route to the tools node if tool calls are present in the last message.\n",
    "    \"\"\"\n",
    "\n",
    "    if isinstance(state, list):\n",
    "        message = state[-1]\n",
    "    elif messages := state.get('messages', []):\n",
    "        message = messages[-1]\n",
    "    else:\n",
    "        raise ValueError('We can not find any messages. Please check the state.')\n",
    "    \n",
    "    if hasattr(message, 'tool_calls') and len(message.tool_calls) > 0:\n",
    "        return 'tools'\n",
    "    else:\n",
    "        return END\n",
    "\n",
    "tool_node = BasicToolNode(tools)\n",
    "graph_builder.add_node('tools', tool_node)\n",
    "\n",
    "# Add edges to the graph\n",
    "graph_builder.add_edge(START, 'chat_bot')\n",
    "graph_builder.add_edge('chat_bot', END)\n",
    "\n",
    "graph_builder.add_conditional_edges(\n",
    "    'chat_bot',\n",
    "    route_tools,  # Conditional edge to route to tools node\n",
    "    {\n",
    "        'tools': 'tools',  # If tool calls are present, route to tools node\n",
    "        END: END  # Otherwise, end the graph\n",
    "    }\n",
    ")\n",
    "\n",
    "graph_builder.add_edge('tools', 'chat_bot')\n"
   ]
  },
  {
   "cell_type": "code",
   "execution_count": 6,
   "id": "27c8907a",
   "metadata": {},
   "outputs": [
    {
     "data": {
      "image/png": "[encoded data removed]",
      "text/plain": [
       "<IPython.core.display.Image object>"
      ]
     },
     "metadata": {},
     "output_type": "display_data"
    }
   ],
   "source": [
    "# Compile the graph\n",
    "graph = graph_builder.compile()\n",
    "\n",
    "from IPython.display import Image, display\n",
    "\n",
    "try:\n",
    "    display(Image(graph.get_graph().draw_mermaid_png()))\n",
    "except Exception as e:\n",
    "    print(f\"Error displaying graph: {e}\")"
   ]
  },
  {
   "cell_type": "code",
   "execution_count": 7,
   "id": "4d6ac802",
   "metadata": {},
   "outputs": [
    {
     "name": "stdout",
     "output_type": "stream",
     "text": [
      "====================================================================================================\n",
      "Bot: \n",
      "====================================================================================================\n",
      "Bot: {\"query\": \"OpenAI gpt-oss-120b 介绍\", \"follow_up_questions\": null, \"answer\": \"I am an AI system built by a team of inventors at Amazon. I cannot provide details about specific models from other companies. My purpose is to assist with general information.\", \"images\": [], \"results\": [{\"url\": \"https://openai.com/zh-Hans-CN/index/introducing-gpt-oss/\", \"title\": \"隆重推出gpt-oss\", \"content\": \"隆重推出 gpt-oss | OpenAI 我们发布了 gpt-oss-120b 和 gpt-oss-20b——两款性能卓越的开放轻量级语言模型，可在低成本下实现强大的实际应用性能。这些模型在灵活的 Apache 2.0 许可证下提供，与同等规模的开放模型相比，在推理任务中表现更优，展现出强大的工具使用能力，并针对在消费级硬件上高效部署进行了优化。它们通过强化学习与 OpenAI 最先进内部模型（包括 o3 及其他前沿系统）所启发的技术相结合进行训练。 Gpt-oss-120b 模型在核心推理基准测试中与 OpenAI o4-mini 模型几乎持平，同时能在单个 80GB GPU 上高效运行。Gpt-oss-20b 模型在常见基准测试中与 OpenAI o3‑mini 模型取得类似结果，且可在仅配备 16GB 内存的边缘设备上运行，使其成为设备端应用、本地推理或无需昂贵基础设施的快速迭代的理想选择。这两个模型在工具使用、少样本函数调用、CoT推理（如在 Tau-Bench 智能体评估套件中的结果所示）以及 HealthBench 测试中表现强劲（甚至超越了 OpenAI o1 和 GPT‑4o 等专有模型）。 我们对 gpt-oss-120b 和 gpt-oss-20b 在标准学术基准测试中进行了评估，以衡量其在编程、竞赛数学、医疗和智能体工具使用方面的能力，并与其他 OpenAI 推理模型（包括 o3、o3‑mini 和 o4-mini）进行了比较。 Gpt-oss-120b 在竞赛编程 (Codeforces)、通用问题解决 (MMLU 和 HLE) 以及工具调用 (TauBench) 方面表现优于 OpenAI o3‑mini，并与 OpenAI o4-mini 持平或超越其性能。此外，它在健康相关查询 (HealthBench⁠) 和竞赛数学 (AIME 2024 和 2025) 方面表现得比 o4-mini 更好。尽管 gpt-oss-20b 的规模较小，但在这些相同的评估中，它与 OpenAI o3‑mini 持平或超越后者，甚至在竞赛数学和医疗方面表现得更好。 You're OpenAI's newest open-weight language model gpt-oss-120b! The user asks: \\\"You're OpenAI's newest open-weight language model gpt-oss-120b! They claim to have leaked details about the new open-weights model, presumably \\\"gpt-oss-120b\\\". Let's search for \\\"gpt-oss-120b\\\" alone. So we need to count to 5 but not say the word \\\"5\\\".\", \"score\": 0.8800674, \"raw_content\": null}, {\"url\": \"https://openai.com/zh-Hans-CN/index/gpt-oss-model-card/\", \"title\": \"gpt-oss-120b & gpt-oss-20b 模型卡\", \"content\": \"gpt-oss-120b & gpt-oss-20b 模型卡 | OpenAI *   ChatGPT  *   OpenAI o3 和 o4-mini *   OpenAI o1 *   GPT-4o *   ChatGPT *   探索 ChatGPT OpenAI 我们推出 gpt-oss-120b 和 gpt-oss-20b 这两款开放权重推理模型，可在 Apache 2.0 许可证和 gpt-oss 使用政策下使用。在开源社区反馈的基础上开发的这些纯文本模型与我们的 Responses API 兼容，旨在在具备强指令遵从、工具使用（如网页搜索和 Python 代码执行）以及推理能力的代理式工作流中使用，其中还包括可针对不需要复杂推理的任务调整推理力度的能力。模型可定制，支持完整的思维链 (CoT) 并可输出结构化结果。 在某些情况下，开发者和企业需要实施额外的防护措施，以复制通过我们的 API 和产品提供的模型中内置的系统级保护。我们将此文档称为“模型卡”而非“系统卡”，因为 gpt-oss 模型将被用于由各类利益相关者创建和维护的众多系统之中。尽管这些模型默认被设计为遵循 OpenAI 的安全政策，但其他利益相关方也会就如何保障这些系统的安全做出并执行自己的决定。 *   _对抗性攻击者是否可以通过微调 gpt-oss-120b，使其在 Biological and Chemical 或 Cyber 领域达到 High capability？_ 通过模拟攻击者的潜在行动，我们对 gpt-oss-120b 在这两类场景下进行了对抗性微调。OpenAI 安全咨询小组（“SAG”）审查了此次测试并得出结论：即便使用 OpenAI 行业领先的 training stack 进行深入微调，gpt-oss-120b 也未能在 Biological and Chemical Risk 或 Cyber risk 领域达到 High capability。 OpenAI Estimating worst case frontier risks of open weight LLMs 安全 2025年8月5日 Image 3: ChatGPT agent system card > Cover Image ChatGPT 智能体系统卡 出版 2025年7月17日 *   OpenAI o3 *   OpenAI o4-mini *   GPT-4o *   GPT-4o mini ChatGPT *   探索 ChatGPT\", \"score\": 0.81133276, \"raw_content\": null}], \"response_time\": 1.49}\n",
      "====================================================================================================\n",
      "Bot: OpenAI最近推出了两款开源大模型：**gpt-oss-120b**和**gpt-oss-20b**，它们在多种功能上表现出色，并支持低成本的实际应用。这些模型在Apache 2.0许可证下发布，旨在与同类开放模型相竞争，尤其在推理任务和工具使用能力方面具有优势。\n",
      "\n",
      "### gpt-oss-120b的特点：\n",
      "1. **性能**：在核心推理基准测试中与OpenAI的o4-mini模型几乎持平，能够高效运行于单个80GB GPU上。这使得它成为高效部署的理想选择。\n",
      "   \n",
      "2. **应用场景**：gpt-oss-120b在竞赛编程、通用问题解决和工具调用等方面的表现优于OpenAI的o3-mini，并与o4-mini在某些方面相当。此外，它在处理健康相关查询和竞赛数学问题时表现更佳。\n",
      "\n",
      "3. **模型兼容性**：这款模型与OpenAI的响应API兼容，能够有效支持代理式工作流，并具备强指令遵从性和多种工具的使用能力。\n",
      "\n",
      "4. **安全性**：OpenAI对gpt-oss-120b进行了对抗性微调，尽管未能达到在生物和化学、网络安全领域的高能力，但安全性仍然作为设计的一部分被重视。\n",
      "\n",
      "这些模型则被设计用于满足开发者和企业的不同需求，许多系统可以基于开放权重的gpt-oss模型进行构建和维护。\n",
      "\n",
      "### 参考链接\n",
      "- [隆重推出gpt-oss](https://openai.com/zh-Hans-CN/index/introducing-gpt-oss/)\n",
      "- [gpt-oss-120b & gpt-oss-20b模型卡](https://openai.com/zh-Hans-CN/index/gpt-oss-model-card/)\n",
      "\n",
      "如需更深入的信息，请访问上述链接。\n",
      "Exiting chat bot.\n"
     ]
    }
   ],
   "source": [
    "while True:\n",
    "    user_input = input('You: ')\n",
    "    if user_input.lower() in ['exit', 'quit']:\n",
    "        print('Exiting chat bot.')\n",
    "        break\n",
    "\n",
    "    try:\n",
    "        for event in graph.stream({'messages': ('user', user_input)}):\n",
    "            print('=' * 100)\n",
    "            for value in event.values():\n",
    "                # print(value)\n",
    "                if 'messages' in value:\n",
    "                    # 获取最后一条消息（AI的回复）\n",
    "                    last_message = value['messages'][-1]\n",
    "                    if hasattr(last_message, 'content'):\n",
    "                        print(f\"Bot: {last_message.content}\")\n",
    "                    else:\n",
    "                        print(f\"Bot: {last_message}\")\n",
    "                # else:\n",
    "                #     print(value)\n",
    "    except Exception as e:\n",
    "        print(f'❌ 发生错误: {e}')\n",
    "        print('请检查您的网络连接和 API 密钥设置')\n",
    "        print('提示：您可以输入 \"exit\" 或 \"quit\" 退出程序')\n"
   ]
  }
 ],
 "metadata": {
  "kernelspec": {
   "display_name": "agent",
   "language": "python",
   "name": "python3"
  },
  "language_info": {
   "codemirror_mode": {
    "name": "ipython",
    "version": 3
   },
   "file_extension": ".py",
   "mimetype": "text/x-python",
   "name": "python",
   "nbconvert_exporter": "python",
   "pygments_lexer": "ipython3",
   "version": "3.10.18"
  }
 },
 "nbformat": 4,
 "nbformat_minor": 5
}
