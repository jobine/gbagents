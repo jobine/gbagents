{
 "cells": [
  {
   "cell_type": "code",
   "execution_count": 2,
   "id": "4dd51441",
   "metadata": {},
   "outputs": [],
   "source": [
    "# 实现模特卡罗搜索（MCTS）算法的基本框架，并测试\n",
    "\n",
    "import math\n",
    "import random\n",
    "\n",
    "class Node:\n",
    "    def __init__(self, state, parent=None):\n",
    "        self.state = state\n",
    "        self.parent = parent\n",
    "        self.children = []\n",
    "        self.visits = 0\n",
    "        self.value = 0.0\n",
    "\n",
    "    def is_fully_expanded(self):\n",
    "        return len(self.children) == len(self.get_possible_actions())\n",
    "\n",
    "    def get_possible_actions(self):\n",
    "        # 返回当前状态下所有可能的动作\n",
    "        \n",
    "        pass\n",
    "\n",
    "    def expand(self):\n",
    "        action = random.choice(self.get_possible_actions())\n",
    "        next_state = self.state.take_action(action)\n",
    "        child_node = Node(next_state, parent=self)\n",
    "        self.children.append(child_node)\n",
    "        return child_node\n",
    "\n",
    "    def best_child(self, c_param=1.4):\n",
    "        choices_weights = [\n",
    "            (child.value / child.visits) + c_param * math.sqrt((2 * math.log(self.visits) / child.visits))\n",
    "            for child in self.children\n",
    "        ]\n",
    "        return self.children[choices_weights.index(max(choices_weights))]\n",
    "\n",
    "    def backpropagate(self, reward):\n",
    "        self.visits += 1\n",
    "        self.value += reward\n",
    "        if self.parent:\n",
    "            self.parent.backpropagate(reward)"
   ]
  },
  {
   "cell_type": "code",
   "execution_count": 3,
   "id": "d89da6af",
   "metadata": {},
   "outputs": [
    {
     "data": {
      "text/plain": [
       "array([[7, 7, 7, 7],\n",
       "       [7, 7, 7, 7],\n",
       "       [7, 7, 7, 7]])"
      ]
     },
     "execution_count": 3,
     "metadata": {},
     "output_type": "execute_result"
    }
   ],
   "source": [
    "import numpy as np\n",
    "\n",
    "np.full((3, 4), 7)"
   ]
  },
  {
   "cell_type": "code",
   "execution_count": null,
   "id": "81a98bb2",
   "metadata": {},
   "outputs": [],
   "source": []
  },
  {
   "cell_type": "code",
   "execution_count": null,
   "id": "0a45c396",
   "metadata": {},
   "outputs": [],
   "source": []
  }
 ],
 "metadata": {
  "kernelspec": {
   "display_name": "agent",
   "language": "python",
   "name": "python3"
  },
  "language_info": {
   "codemirror_mode": {
    "name": "ipython",
    "version": 3
   },
   "file_extension": ".py",
   "mimetype": "text/x-python",
   "name": "python",
   "nbconvert_exporter": "python",
   "pygments_lexer": "ipython3",
   "version": "3.10.18"
  }
 },
 "nbformat": 4,
 "nbformat_minor": 5
}
