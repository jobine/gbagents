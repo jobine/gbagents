{
 "cells": [
  {
   "cell_type": "code",
   "execution_count": 34,
   "id": "9ceb82cc",
   "metadata": {},
   "outputs": [
    {
     "name": "stdout",
     "output_type": "stream",
     "text": [
      "Hello! How can I help you today?\n"
     ]
    }
   ],
   "source": [
    "from openai import OpenAI\n",
    "\n",
    "client = OpenAI(\n",
    "    base_url='http://127.0.0.1:11434/v1',\n",
    "    api_key='ollama'\n",
    ")\n",
    "\n",
    "# response = client.responses.create(\n",
    "#     model='gpt-oss:20b',\n",
    "#     input='hi'\n",
    "# )\n",
    "\n",
    "# print(response)\n",
    "\n",
    "response = client.chat.completions.create(\n",
    "    model=\"gpt-oss\",  # 或 \"llama3\", \"mistral\", 等\n",
    "    messages=[{\"role\": \"user\", \"content\": \"hi\"}],\n",
    "    temperature=0.7\n",
    ")\n",
    "\n",
    "print(response.choices[0].message.content)"
   ]
  },
  {
   "cell_type": "code",
   "execution_count": 17,
   "id": "6f186b9c",
   "metadata": {},
   "outputs": [
    {
     "data": {
      "text/plain": [
       "{'models': [{'name': 'gpt-oss:20b',\n",
       "   'model': 'gpt-oss:20b',\n",
       "   'modified_at': '2025-08-15T00:14:41.7440297+08:00',\n",
       "   'size': 13780173724,\n",
       "   'digest': 'aa4295ac10c3afb60e6d711289fc6896f5aef82258997b9efdaed6d0cc4cd8b8',\n",
       "   'details': {'parent_model': '',\n",
       "    'format': 'gguf',\n",
       "    'family': 'gptoss',\n",
       "    'families': ['gptoss'],\n",
       "    'parameter_size': '20.9B',\n",
       "    'quantization_level': 'MXFP4'}},\n",
       "  {'name': 'qwen3:latest',\n",
       "   'model': 'qwen3:latest',\n",
       "   'modified_at': '2025-08-14T18:08:57.4408946+08:00',\n",
       "   'size': 5225388164,\n",
       "   'digest': '500a1f067a9f782620b40bee6f7b0c89e17ae61f686b92c24933e4ca4b2b8b41',\n",
       "   'details': {'parent_model': '',\n",
       "    'format': 'gguf',\n",
       "    'family': 'qwen3',\n",
       "    'families': ['qwen3'],\n",
       "    'parameter_size': '8.2B',\n",
       "    'quantization_level': 'Q4_K_M'}},\n",
       "  {'name': 'gpt-oss:latest',\n",
       "   'model': 'gpt-oss:latest',\n",
       "   'modified_at': '2025-08-14T15:42:54.8001561+08:00',\n",
       "   'size': 13780173724,\n",
       "   'digest': 'aa4295ac10c3afb60e6d711289fc6896f5aef82258997b9efdaed6d0cc4cd8b8',\n",
       "   'details': {'parent_model': '',\n",
       "    'format': 'gguf',\n",
       "    'family': 'gptoss',\n",
       "    'families': ['gptoss'],\n",
       "    'parameter_size': '20.9B',\n",
       "    'quantization_level': 'MXFP4'}}]}"
      ]
     },
     "execution_count": 17,
     "metadata": {},
     "output_type": "execute_result"
    }
   ],
   "source": [
    "import requests\n",
    "\n",
    "requests.get(\"http://localhost:11434/api/tags\").json()"
   ]
  }
 ],
 "metadata": {
  "kernelspec": {
   "display_name": "agent",
   "language": "python",
   "name": "python3"
  },
  "language_info": {
   "codemirror_mode": {
    "name": "ipython",
    "version": 3
   },
   "file_extension": ".py",
   "mimetype": "text/x-python",
   "name": "python",
   "nbconvert_exporter": "python",
   "pygments_lexer": "ipython3",
   "version": "3.10.18"
  }
 },
 "nbformat": 4,
 "nbformat_minor": 5
}
