{
 "cells": [
  {
   "cell_type": "code",
   "execution_count": 49,
   "id": "365bf636",
   "metadata": {},
   "outputs": [],
   "source": [
    "from python_a2a.client import A2AClient\n",
    "\n",
    "a2a_url = 'http://localhost:7000'\n",
    "\n",
    "client = A2AClient(a2a_url)\n",
    "\n",
    "# response = client.ask('calculate 3 * 100 + 20')\n",
    "\n",
    "# print(response)\n",
    "\n",
    "# response = client.ask('what time is it?')\n",
    "\n",
    "# print(response)\n",
    "\n"
   ]
  },
  {
   "cell_type": "code",
   "execution_count": 50,
   "id": "4423f0da",
   "metadata": {},
   "outputs": [
    {
     "name": "stdout",
     "output_type": "stream",
     "text": [
      "3 * 100 + 20 - 5 = 315。\n"
     ]
    }
   ],
   "source": [
    "response = client.ask('求3 * 100 + 20 - 5的结果是多少？')\n",
    "\n",
    "print(response)"
   ]
  },
  {
   "cell_type": "code",
   "execution_count": 51,
   "id": "e228b30f",
   "metadata": {},
   "outputs": [
    {
     "name": "stdout",
     "output_type": "stream",
     "text": [
      "It's 23:53:10 (11:53:10 PM) on Saturday, October 4, 2025.\n"
     ]
    }
   ],
   "source": [
    "response = client.ask('what time is it?')\n",
    "\n",
    "print(response)"
   ]
  },
  {
   "cell_type": "code",
   "execution_count": 52,
   "id": "bf26e5f2",
   "metadata": {},
   "outputs": [
    {
     "name": "stdout",
     "output_type": "stream",
     "text": [
      "Currently in Shanghai: clear sky. Temperature 26.48°C (feels like 26.48°C), humidity 88%, wind 2.02 m/s.\n"
     ]
    }
   ],
   "source": [
    "response = client.ask('what is the weather in Shanghai?')\n",
    "\n",
    "print(response)"
   ]
  },
  {
   "cell_type": "code",
   "execution_count": 34,
   "id": "0f7acb64",
   "metadata": {},
   "outputs": [
    {
     "data": {
      "text/plain": [
       "dict"
      ]
     },
     "execution_count": 34,
     "metadata": {},
     "output_type": "execute_result"
    }
   ],
   "source": [
    "import json\n",
    "\n",
    "s = json.loads('{\\n  \"input\": \"3 * 100 + 20\"\\n}')\n",
    "type(s)"
   ]
  }
 ],
 "metadata": {
  "kernelspec": {
   "display_name": "agent",
   "language": "python",
   "name": "python3"
  },
  "language_info": {
   "codemirror_mode": {
    "name": "ipython",
    "version": 3
   },
   "file_extension": ".py",
   "mimetype": "text/x-python",
   "name": "python",
   "nbconvert_exporter": "python",
   "pygments_lexer": "ipython3",
   "version": "3.10.18"
  }
 },
 "nbformat": 4,
 "nbformat_minor": 5
}
